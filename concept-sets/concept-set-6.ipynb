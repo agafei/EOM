{
 "cells": [
  {
   "cell_type": "markdown",
   "id": "36f01fca-c4ac-463b-a2b1-2ef8c84cc44b",
   "metadata": {},
   "source": [
    "# Concept Set 6\n",
    "## Topic: NumPy and Pandas\n",
    "\n",
    "by Joe Ilagan\n",
    "\n",
    "This concept set is meant for people who have no experience with programming at all. If you have experience with programming, you may ignore the concept sets that tackle topics you've mastered."
   ]
  },
  {
   "cell_type": "markdown",
   "id": "b2339f55-85ac-4e73-a965-16ddbfb743b7",
   "metadata": {},
   "source": [
    "### 6.1: NumPy and Pandas\n",
    "\n",
    "NumPy (henceforth `numpy`) and Pandas (henceforth `pandas`) are two of the most important libraries in Python for working with data.  \n",
    "\n",
    "They are not standard libraries. This means that you have to install them through the Anaconda navigator.  \n",
    "\n",
    "They come pre-installed in Google Colab environments.  \n",
    "\n",
    "#### numpy\n",
    "\n",
    "Source: https://numpy.org/doc/stable/user/whatisnumpy.html\n",
    "\n",
    "`numpy` is \"the fundamental package for scientific computing in Python.\" Many other scientific computing packages have `numpy` as a dependency because of its `array` object.  \n",
    "\n",
    "The `numpy array` is similar to a vanilla Python list: it is a multi-dimensional, ordered collection of values. However, it differs from lists in some critical ways:  \n",
    "\n",
    "1. Arrays in `numpy` are of a fixed size. Lists in Python are dynamically sized.  \n",
    "2. Arrays can only contain a single data type. Lists in Python can contain many different data types.  \n",
    "\n",
    "Given these restrictions, why use arrays over lists? When they can be used, arrays are _significantly_ faster than lists. The authors of the `numpy` package made use of several optimizations (such as a C implementation and parallelization) to achieve this performance. The performance difference between arrays and lists is so ridiculously large that Python would simply not be competitive as a data science language without `numpy`.  \n",
    "\n",
    "#### pandas\n",
    "\n",
    "Source: https://pandas.pydata.org/about/index.html  \n",
    "\n",
    "`pandas` is a popular package for data analysis in Python. The focal point of `pandas` is the `DataFrame` object, which you may think of as an object that manages tabular data.  \n",
    "\n",
    "The `DataFrame` object is a flexible, fast, and powerful way to transform tabular data. Though it has advanced features that are difficult to master, its basic interface is easy to use. For example, if we were to read a CSV file in `pandas`, we would simply need to load it into a `DataFrame` as such:  \n",
    "\n",
    "`import pandas as pd`  \n",
    "`df = pd.read_csv(file_path)`  \n",
    "\n",
    "`pandas` does have some limitations:  \n",
    "1. It is not suitable for \"big data\", which is any data that you need more than one computer to process properly.  \n",
    "2. It is a large library (in terms of file size). If you only need to analyze simple and small data, you are probably better off using normal file-reading techniques.\n",
    "\n",
    "Regardless, `pandas` remains a favorite of data scientists today. It is an excellent library for non-trivial data analysis.  "
   ]
  },
  {
   "cell_type": "markdown",
   "id": "7c7fa732-2ef4-41f7-9d6b-f67702564998",
   "metadata": {},
   "source": [
    "### Checkpoint\n",
    "\n",
    "Install `numpy` and `pandas`. If you're using Anaconda, you can do this from the navigator. Make sure the cell below runs with no errors."
   ]
  },
  {
   "cell_type": "code",
   "execution_count": null,
   "id": "e07eefa5-4e08-4c60-a3b0-4d2b77821576",
   "metadata": {},
   "outputs": [],
   "source": [
    "import numpy as np\n",
    "import pandas as pd"
   ]
  },
  {
   "cell_type": "markdown",
   "id": "cf0f4846-a95b-449c-862f-603385336c7c",
   "metadata": {},
   "source": [
    "### 6.2: NumPy\n",
    "\n",
    "Source: https://numpy.org/doc/stable/user/absolute_beginners.html  \n",
    "\n",
    "You will likely not use `numpy` itself very often. However, it is still important to know how it works, because almost all other scientific computing packages in Python are based on `numpy`.  \n",
    "\n",
    "#### Array basics\n",
    "\n",
    "Arrays are `numpy`'s basic data structure. As a beginner, it may be helpful not to think of them as \"more rigid lists.\" Instead, think of them as matrices of numbers.  \n",
    "\n",
    "You can create a trivial array from a Python list or range as such:  "
   ]
  },
  {
   "cell_type": "code",
   "execution_count": 14,
   "id": "733b1bd9-3c42-4583-a68a-c175efa12ca6",
   "metadata": {},
   "outputs": [
    {
     "data": {
      "text/plain": [
       "array([1, 2, 3, 4, 5])"
      ]
     },
     "execution_count": 14,
     "metadata": {},
     "output_type": "execute_result"
    }
   ],
   "source": [
    "list_1d = [1, 2, 3, 4, 5]\n",
    "\n",
    "array_1d = np.array(list_1d)\n",
    "\n",
    "array_1d"
   ]
  },
  {
   "cell_type": "code",
   "execution_count": 15,
   "id": "dad0abfe-5cc4-4c02-a65d-223d63269fd5",
   "metadata": {},
   "outputs": [
    {
     "data": {
      "text/plain": [
       "array([[1, 2, 3],\n",
       "       [4, 5, 6],\n",
       "       [7, 8, 9]])"
      ]
     },
     "execution_count": 15,
     "metadata": {},
     "output_type": "execute_result"
    }
   ],
   "source": [
    "list_2d = [\n",
    "    [1, 2, 3],\n",
    "    [4, 5, 6],\n",
    "    [7, 8, 9]\n",
    "]\n",
    "\n",
    "array_2d = np.array(list_2d)\n",
    "\n",
    "array_2d"
   ]
  },
  {
   "cell_type": "markdown",
   "id": "a977627c-5658-479e-b39b-c9910faa87ff",
   "metadata": {},
   "source": [
    "You can access elements in multi-dimensional arrays through index chaining.    "
   ]
  },
  {
   "cell_type": "code",
   "execution_count": 16,
   "id": "fbce1623-9000-4491-84ff-a79a3d49f9e0",
   "metadata": {},
   "outputs": [
    {
     "data": {
      "text/plain": [
       "4"
      ]
     },
     "execution_count": 16,
     "metadata": {},
     "output_type": "execute_result"
    }
   ],
   "source": [
    "array_2d[1][0]"
   ]
  },
  {
   "cell_type": "markdown",
   "id": "d2fe8bd6-4cfb-4fc5-b8ae-800b5c17f5ce",
   "metadata": {},
   "source": [
    "#### `numpy` methods to generate arrays\n",
    "\n",
    "##### `np.array`\n",
    "\n",
    "`np.array` simply generates an array based on a Python list or array that you pass it.  \n",
    "\n",
    "##### `np.zeros`\n",
    "\n",
    "`np.zeros` generates "
   ]
  },
  {
   "cell_type": "markdown",
   "id": "a66dfc3d-83ee-4605-b4f3-daac165b1589",
   "metadata": {},
   "source": [
    "### 6.3: Pandas"
   ]
  },
  {
   "cell_type": "code",
   "execution_count": 2,
   "id": "190f6c1f-2245-4fd8-889b-649857de9b9b",
   "metadata": {},
   "outputs": [
    {
     "data": {
      "text/plain": [
       "array([0, 1, 2, 3, 4, 5, 6, 7, 8, 9])"
      ]
     },
     "execution_count": 2,
     "metadata": {},
     "output_type": "execute_result"
    }
   ],
   "source": [
    "import numpy as np\n",
    "\n",
    "a = np.array(range(10))\n",
    "a"
   ]
  },
  {
   "cell_type": "code",
   "execution_count": null,
   "id": "69e64029-12e8-476b-a36c-467653e8b2ea",
   "metadata": {},
   "outputs": [],
   "source": []
  }
 ],
 "metadata": {
  "kernelspec": {
   "display_name": "Python 3",
   "language": "python",
   "name": "python3"
  },
  "language_info": {
   "codemirror_mode": {
    "name": "ipython",
    "version": 3
   },
   "file_extension": ".py",
   "mimetype": "text/x-python",
   "name": "python",
   "nbconvert_exporter": "python",
   "pygments_lexer": "ipython3",
   "version": "3.9.5"
  }
 },
 "nbformat": 4,
 "nbformat_minor": 5
}

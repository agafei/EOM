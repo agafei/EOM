{
 "cells": [
  {
   "cell_type": "markdown",
   "id": "828c9615-a2ff-4e68-92df-94bc808a25d1",
   "metadata": {},
   "source": [
    "# Concept Set 5\n",
    "## Topic: Working with Data\n",
    "\n",
    "by Joe Ilagan\n",
    "\n",
    "This concept set is meant for people who have no experience with programming at all. If you have experience with programming, you may ignore the concept sets that tackle topics you've mastered."
   ]
  },
  {
   "cell_type": "markdown",
   "id": "c5856eb3-8ded-40c2-b86e-8768947ce65c",
   "metadata": {},
   "source": [
    "### 5.1: Files\n",
    "\n",
    "One of Python's core strengths is its ability to handle vast amounts of data. This is why you are learning Python. Courses that you will take later in your degree program will require you to handle data in ways that are beyond the capabilities of spreadsheet software.  \n",
    "\n",
    "You may have noticed that all the data that we've dealt with so far has been _ephemeral_, or in other words, temporary. Ephemeral data is stored in your computer's _memory_, not its _storage_, which means that it will be lost once the program handling it is shut down. When you shut down this notebook, the data that you are working with is lost.  \n",
    "\n",
    "The simplest way to _persist_ data is to write your data to a _file_. Your office programs like Word/Docs, Excel/Sheets, and PowerPoint/Slides all use files.  \n",
    "\n",
    "In Python, you can work with files as such:  "
   ]
  },
  {
   "cell_type": "code",
   "execution_count": 3,
   "id": "6b966d52-3d55-4f9c-bb8e-861e9be3e2b9",
   "metadata": {},
   "outputs": [],
   "source": [
    "# Open the file\n",
    "# Pattern:\n",
    "# file_object = open(file_name, mode)\n",
    "# `mode` can be \"r\" for reading, \"w\" for writing, and \"a\" for appending. \n",
    "# There are more modes that handle more specialized tasks.\n",
    "my_file = open(\"./concept-set-5-test.txt\", \"w\")\n",
    "\n",
    "# Do stuff to the file\n",
    "my_file.write(\"Hello file world!\")\n",
    "\n",
    "# Close the file\n",
    "my_file.close()"
   ]
  },
  {
   "cell_type": "markdown",
   "id": "8c52a2ad-6eeb-4e82-a07d-d4b10f099964",
   "metadata": {},
   "source": [
    "This pattern is often simplified (and made more memory-safe) by using a _context manager_. The context manager is Python's structure for allocating and releasing resources for a task automatically. It is advisable to use context managers for working with files in nearly all cases."
   ]
  },
  {
   "cell_type": "code",
   "execution_count": 2,
   "id": "49b7983e-489d-4623-8415-cbdf1d2c961a",
   "metadata": {},
   "outputs": [],
   "source": [
    "# Using a context manager\n",
    "# Notice that there is no need to close the file\n",
    "with open(\"./concept-set-5-test.txt\", \"w\") as my_file:\n",
    "    my_file.write(\"Hello from context manager!\")"
   ]
  },
  {
   "cell_type": "markdown",
   "id": "01369ff3-7bd4-4554-aa79-ea309d9f678d",
   "metadata": {},
   "source": [
    "### 5.2: File methods\n",
    "\n",
    "Files, much like other Python objects, have _methods_ that you can use to interact with them. Here are some critical ones. You may find the rest of the file methods at https://www.w3schools.com/python/python_ref_file.asp.  \n",
    "\n",
    "`.write`  \n",
    "Writes a string to a file.  \n",
    "`.writelines`  \n",
    "Writes a _list_ of strings to a file.  \n",
    "`.read`  \n",
    "Reads the file's contents.  \n",
    "`.readlines`  \n",
    "Reads the file's contents _as an iterable_.  \n"
   ]
  },
  {
   "cell_type": "markdown",
   "id": "cb3c8fcb-74bc-4c00-8480-4d4be03da065",
   "metadata": {},
   "source": [
    "### Checkpoint  \n",
    "\n",
    "Write the letters of the alphabet to a file called `concept-set-5-alphabet.txt`. Write one letter per line.  "
   ]
  },
  {
   "cell_type": "code",
   "execution_count": null,
   "id": "aea5f58f-76d0-4545-8196-e2f057ed8cc4",
   "metadata": {},
   "outputs": [],
   "source": []
  },
  {
   "cell_type": "markdown",
   "id": "1b82c560-de9d-4d4b-8720-60ccb6ff344c",
   "metadata": {},
   "source": [
    "### 5.3: Text vs. Binary files\n",
    "\n",
    "Going forward, you may encounter the terms \"text file\" and \"binary file.\" These terms have specific meanings in programming.  \n",
    "\n",
    "A _text_ file is a file that is written in human-readable characters. It does not necessarily need a `.txt` extension. Text files can be edited in a _text editor_, which is why some people joke that you can technically program on Notepad or TextEdit. Most programmers use a more versatile text editor like Visual Studio Code, Atom, or Sublime Text.  \n",
    "\n",
    "A _binary_ file is a file that is _not_ written in human-readable characters.  \n",
    "\n",
    "Most of the files we will use in this course will be text files."
   ]
  },
  {
   "cell_type": "markdown",
   "id": "f87f1f02-f5de-4e5d-bd63-6a7b491ea1b2",
   "metadata": {},
   "source": [
    "### 5.4: CSV files  \n",
    "\n",
    "Data is often stored in the _tabular_ format. If you have ever worked with a spreadsheet before, then you are already familiar with tabular data.  \n",
    "\n",
    "In a text file, one of the most basic ways to store tabular data is to store it in a \"comma-separated\" format. The comma-separated value (hence CSV) file is typically given the extension `.csv`.  \n",
    "\n",
    "To illustrate:  \n",
    "\n",
    "`name,email,number`  \n",
    "`Joe,joeilagan@email.com,09170000000`  \n",
    "`Alteheit,lordalteheit@email.com,0927000000`  \n",
    "`Dirus,lorddirus@email.com,09180000000`  \n",
    "\n",
    "This is equivalent to the following spreadsheet:  \n",
    "\n",
    "![image.jpg](./images/cs5-spreadsheet.jpg)"
   ]
  },
  {
   "cell_type": "markdown",
   "id": "19011ab6-88c6-482c-9066-49eb129bde42",
   "metadata": {},
   "source": [
    "### Checkpoint\n",
    "\n",
    "Write the following data to a CSV file called `concept-set-5-csv-exercise.csv`.  \n",
    "\n",
    "`name,email,number`  \n",
    "`Joe,joeilagan@email.com,09170000000`  \n",
    "`Alteheit,lordalteheit@email.com,0927000000`  \n",
    "`Dirus,lorddirus@email.com,09180000000`  \n",
    "\n",
    "When you are done, try to open your CSV file in Excel.  "
   ]
  },
  {
   "cell_type": "code",
   "execution_count": null,
   "id": "31f5e4f8-d5b5-48b3-a5db-0bb76f9da6ce",
   "metadata": {},
   "outputs": [],
   "source": []
  },
  {
   "cell_type": "markdown",
   "id": "153e178f-71ea-47e0-87cb-29c447b94b5b",
   "metadata": {},
   "source": [
    "### Checkpoint\n",
    "\n",
    "Read the data from `concept-set-5-csv-exercise.csv` into Python's memory. Store the data as a nested list, where the big list represents the entire file and where the smaller lists represent rows.  \n",
    "\n",
    "Hint: Read up on the `csv` module in Python's library."
   ]
  },
  {
   "cell_type": "code",
   "execution_count": null,
   "id": "2fec2e07-6a47-4df3-b47e-6b149bfec975",
   "metadata": {},
   "outputs": [],
   "source": []
  },
  {
   "cell_type": "markdown",
   "id": "d46740cf-87ca-4456-904d-1aaef3591ce9",
   "metadata": {},
   "source": [
    "### 5.5: JSON files  \n",
    "\n",
    "Data is not always so easy to fit into a tabular form. A more flexible way to store data is through _key-value pairs_.  \n",
    "\n",
    "In Python, the _dictionary_ is the mechanism that handles key-value pairs. In general, this structure is more widely known as JSON (JavaScript Object Notation). The JSON format is now the \"common language\" that modern applications speak.  \n",
    "\n",
    "JSON files, which are also text files, are written very similarly to dictionaries. For example:  \n",
    "\n",
    "![cs5-json-screenshot.png](images/cs5-json-screenshot.png)  \n",
    "\n",
    "JSON files can also nest values, but only certain types of data are _serializable_ to JSON form. Python may throw an error if you try to dump a non-serializable data type (such as a custom object) into a JSON file.  \n",
    "\n",
    "#### Representing tabular data in JSON  \n",
    "\n",
    "Recall that the CSV format represents tabular data in an intuitive way. How can we represent tabular data in JSON?  \n",
    "\n",
    "This is how:  \n",
    "\n",
    "![cs5-tabular-json.png](images/cs5-tabular-json.png)  \n",
    "\n",
    "JSON files can effectively be lists whose elements are dictionaries. Each dictionary element has headers for keys. These keys are paired with their respective values for those rows. "
   ]
  },
  {
   "cell_type": "markdown",
   "id": "e7273eab-6497-423f-81c2-017c6d79848d",
   "metadata": {},
   "source": [
    "### Checkpoint\n",
    "\n",
    "Read the data from `concept-set-5-csv-exercise.csv` again. Transform the data into JSON format and save it to a `.json` file called `concept-set-5-json-exercise.json`.  \n",
    "\n",
    "Hint: use the `json` module from Python's library."
   ]
  },
  {
   "cell_type": "code",
   "execution_count": null,
   "id": "deaf0bea-dd41-410b-a530-915b3307588f",
   "metadata": {},
   "outputs": [],
   "source": []
  },
  {
   "cell_type": "markdown",
   "id": "f406eaea-18cb-42ee-8bb6-c31375c618be",
   "metadata": {},
   "source": [
    "### Checkpoint\n",
    "\n",
    "Read the data from `concept-set-5-json-exercise.json`. "
   ]
  },
  {
   "cell_type": "code",
   "execution_count": null,
   "id": "7c01d49b-c6ea-4246-93ea-f832eb4779bc",
   "metadata": {},
   "outputs": [],
   "source": []
  },
  {
   "cell_type": "markdown",
   "id": "c6f4e900-069a-4538-873b-ff387ecf87c9",
   "metadata": {},
   "source": [
    "### Checkpoint\n",
    "\n",
    "Try writing a valid Python dictionary that the `json` module will refuse to dump due to a `TypeError`."
   ]
  },
  {
   "cell_type": "code",
   "execution_count": null,
   "id": "e0ed4d8a-e339-4ef2-888a-117aa27e3bda",
   "metadata": {},
   "outputs": [],
   "source": []
  }
 ],
 "metadata": {
  "kernelspec": {
   "display_name": "Python 3",
   "language": "python",
   "name": "python3"
  },
  "language_info": {
   "codemirror_mode": {
    "name": "ipython",
    "version": 3
   },
   "file_extension": ".py",
   "mimetype": "text/x-python",
   "name": "python",
   "nbconvert_exporter": "python",
   "pygments_lexer": "ipython3",
   "version": "3.9.5"
  }
 },
 "nbformat": 4,
 "nbformat_minor": 5
}

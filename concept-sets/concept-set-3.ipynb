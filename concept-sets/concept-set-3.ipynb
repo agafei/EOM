{
 "cells": [
  {
   "cell_type": "markdown",
   "id": "ac30f37b-6177-43ca-874c-54d4c41a1b61",
   "metadata": {},
   "source": [
    "# Concept Set 3\n",
    "## Topic: Functions and Intermediate Data Types\n",
    "\n",
    "by Joe Ilagan\n",
    "\n",
    "This concept set is meant for people who have no experience with programming at all. If you have experience with programming, you may ignore the concept sets that tackle topics you've mastered."
   ]
  },
  {
   "cell_type": "markdown",
   "id": "1a561bca-df45-47f9-8c56-fd794798a5c5",
   "metadata": {},
   "source": [
    "### 3.1: Functions  \n",
    "\n",
    "So far, whenever we have written code, the code was executed immediately. This is not always desirable. What happens when you want to \"store\" some code for future use?  \n",
    "\n",
    "This is where we can use _functions_.  \n",
    "\n",
    "#### What are functions?\n",
    "\n",
    "Functions are blocks of code that are stored for later use. You can declare a function with the `def` (short for \"define\") keyword. The code within functions only runs when you _call_ (or _invoke_) the function.  \n",
    "\n",
    "For example:"
   ]
  },
  {
   "cell_type": "code",
   "execution_count": 1,
   "id": "c7f5ef8b-3b22-4b8f-b3fa-bcbbf432e459",
   "metadata": {},
   "outputs": [],
   "source": [
    "def say_hello():\n",
    "    print(\"Hello!\")"
   ]
  },
  {
   "cell_type": "markdown",
   "id": "f567c241-1604-49cc-b04e-8a42736bd28e",
   "metadata": {},
   "source": [
    "Try running the cell above. It has a `print` within it, but it does not produce any output.  \n",
    "\n",
    "To active the code within the function, we must _call_ it as follows:  "
   ]
  },
  {
   "cell_type": "code",
   "execution_count": 2,
   "id": "a9b3ca14-d72b-4693-9a65-62dd4736be28",
   "metadata": {},
   "outputs": [
    {
     "name": "stdout",
     "output_type": "stream",
     "text": [
      "Hello!\n"
     ]
    }
   ],
   "source": [
    "say_hello()"
   ]
  },
  {
   "cell_type": "markdown",
   "id": "fd9651c8-d5d2-4a46-8a42-0e0264eb6fc2",
   "metadata": {},
   "source": [
    "Functions are often used to store very long blocks of code that must be used often.  \n",
    "\n",
    "You may notice that we have actually already been using functions in previous exercises. The very first line of code we wrote, `print(\"Hello world\")`, is a _call_ to Python's `print` function. The constructors for casting (e.g., `int`, `float`, `str`, etc.) are also functions. Let's explore two other aspects of functions: _arguments_ and _return data_.   \n",
    "\n",
    "#### Arguments\n",
    "\n",
    "Sometimes, the code within a function needs additional information. You can supply this information to your function through _arguments_.  \n",
    "\n",
    "For example, let's say you want to write a function that prints the sum of two numbers. In the first line, within the parentheses, you can tell your function what variables to expect when it is called later on. "
   ]
  },
  {
   "cell_type": "code",
   "execution_count": 3,
   "id": "ff59a67b-ed24-4cc5-81d6-6d4b70f8f68c",
   "metadata": {},
   "outputs": [],
   "source": [
    "def add(number_1, number_2):\n",
    "    print(number_1 + number_2)"
   ]
  },
  {
   "cell_type": "markdown",
   "id": "eb319416-d812-4a53-bfed-6bd250c3dc1d",
   "metadata": {},
   "source": [
    "Now, you can supply values to your function when you call it:"
   ]
  },
  {
   "cell_type": "code",
   "execution_count": 4,
   "id": "a11589f7-891f-4ca2-9658-d48ba1d42466",
   "metadata": {},
   "outputs": [
    {
     "name": "stdout",
     "output_type": "stream",
     "text": [
      "8\n"
     ]
    }
   ],
   "source": [
    "add(3, 5)"
   ]
  },
  {
   "cell_type": "markdown",
   "id": "1c07c546-5d50-4373-9eff-9756ba9459bb",
   "metadata": {},
   "source": [
    "Strictly speaking, these variables in the function declaration are called _parameters_, and the actual values you pass the function when you call it are called _arguments_. In this example, `number_1` and `number_2` are the parameters, and `3` and `5` are the arguments.  \n",
    "\n",
    "#### `return`\n",
    "\n",
    "You may have noticed that all our functions so far have used `print`. This is useful for telling us, the programmers, what is happening in the function. However, most of the time, the function needs to pass information back to your program. Look at what happens if we try to store the result of `add` in a variable:"
   ]
  },
  {
   "cell_type": "code",
   "execution_count": 6,
   "id": "e09f65d3-8bfb-40ee-960f-93852535824f",
   "metadata": {},
   "outputs": [
    {
     "name": "stdout",
     "output_type": "stream",
     "text": [
      "8\n",
      "Result of add: None\n"
     ]
    }
   ],
   "source": [
    "my_sum = add(3, 5)\n",
    "print(f\"Result of add: {my_sum}\")"
   ]
  },
  {
   "cell_type": "markdown",
   "id": "43da4bb5-934f-4700-94db-4dceb0bb963a",
   "metadata": {},
   "source": [
    "Notice what happened here. When we called `add`, the sum, `8`, was printed. However, when we tried to store the result of `add` in a variable, the result of `add` was actually `None`, not `8` as we expected. This is because we did not _return_ the result.  \n",
    "\n",
    "This is very easy to fix. Let us re-define `add` to _return_ the value instead of merely printing it.  "
   ]
  },
  {
   "cell_type": "code",
   "execution_count": 7,
   "id": "e3be31d2-617d-48aa-a453-24e2186189ff",
   "metadata": {},
   "outputs": [],
   "source": [
    "def add(number_1, number_2):\n",
    "    return number_1 + number_2"
   ]
  },
  {
   "cell_type": "markdown",
   "id": "e7eef39b-152b-419d-b04e-fe97162cec3e",
   "metadata": {},
   "source": [
    "Here are the changes that we expect:\n",
    "1. `add` should no longer print its result on its own when we call it, because we removed the print statement.\n",
    "2. The expression `add(number_1, number_2)` should evaluate to `number_1 + number_2`, which we returned, instead of `None`.\n",
    "\n",
    "Let us see these changes in action:"
   ]
  },
  {
   "cell_type": "code",
   "execution_count": 8,
   "id": "1b19a786-6ba4-4223-8c66-40415181af17",
   "metadata": {},
   "outputs": [
    {
     "name": "stdout",
     "output_type": "stream",
     "text": [
      "Result of add: 8\n"
     ]
    }
   ],
   "source": [
    "my_sum = add(3, 5)\n",
    "print(f\"Result of add: {my_sum}\")"
   ]
  },
  {
   "cell_type": "markdown",
   "id": "592e3102-4498-4007-ac81-aa52250d0926",
   "metadata": {},
   "source": [
    "### Checkpoint\n",
    "\n",
    "Write a simple calculator function. The calculator should output the result of a simple operation on two numbers.  \n",
    "\n",
    "The calculator function should accept three pieces of information:  \n",
    "1. (str) The operation. This will always be one of the following: \"+\", \"-\", \"*\", or \"/\".\n",
    "2. (int) The first number, which will be the number on the left.\n",
    "3. (int) The second number, which will be the number on the right.\n",
    "\n",
    "The calculator function should _return_, not print, the result of the operation."
   ]
  },
  {
   "cell_type": "code",
   "execution_count": null,
   "id": "e8b1347a-e1cf-4bc0-a3f7-a69169ec59b6",
   "metadata": {},
   "outputs": [],
   "source": []
  },
  {
   "cell_type": "markdown",
   "id": "4e198936-63c3-4f85-8497-c3a82a735706",
   "metadata": {},
   "source": [
    "### 3.2: Intermediate Data Types\n",
    "\n",
    "All our variables so far only contained one value. What if we want to store many values in one variable? This is where we can use _intermediate data types_. There are four types that you should know of: lists, dictionaries, tuples, and sets.  \n",
    "\n",
    "The two most important types for now are the _list_ and the _dictionary_, but tuples and sets also have their place in a Python programmer's arsenal.  "
   ]
  },
  {
   "cell_type": "markdown",
   "id": "88f3cb0b-2514-4ab1-9c16-6aef13f852eb",
   "metadata": {},
   "source": [
    "### 3.3: Lists\n",
    "\n",
    "A Python list is an ordered array of values. List literals are declared with square brackets [] that enclose all the list's elements. Elements are separated by commas."
   ]
  },
  {
   "cell_type": "code",
   "execution_count": null,
   "id": "2131be67-58d3-46f5-bbce-0ec95120911d",
   "metadata": {},
   "outputs": [],
   "source": [
    "my_list = [1, True, \"three\", False, 5.0, \"six\"]"
   ]
  },
  {
   "cell_type": "markdown",
   "id": "d025f821-0e82-458f-92ad-5bd95deded94",
   "metadata": {},
   "source": [
    "Some notes on lists:\n",
    "1. In Python, lists can contain data of any type. You can mix numbers, strings, and booleans (among others) in the same list. (It is generally not advisable to do this.)\n",
    "2. You can access a specific element of a list by specifying the element's index (much like a string).\n",
    "3. You can access a sub-list of a list by slicing the list in the same way you would slice a string.  \n",
    "4. Lists are _mutable_, which means that they can be changed. You can re-assign an element in a list to another value (e.g., `my_list[some_index] = new_value`). You can also re-assign a slice of a list to another iterable.\n",
    "5. You can store intermediate data types as list elements. (e.g., `my_list = [1, 2, [1, 2, 3]]`) This makes lists incredibly flexible, but be aware that this will likely come up in problems and exercises.\n",
    "\n",
    "### Checkpoint\n",
    "\n",
    "Given the following list, correct its elements through slicing and assignment such that the list simply contains the integers from 1 to 6. Do not re-assign the whole list!\n"
   ]
  },
  {
   "cell_type": "code",
   "execution_count": null,
   "id": "bf8fd3d1-8b51-43aa-b605-a9a70ba01661",
   "metadata": {},
   "outputs": [],
   "source": [
    "my_list = [1, True, 3, False, 5.0, \"six\"]"
   ]
  },
  {
   "cell_type": "markdown",
   "id": "d4d380f1-34b9-4fba-b622-d50f9d7ea333",
   "metadata": {},
   "source": [
    "### 3.4: List Methods\n",
    "Lists have their own special functions (more specifically, _methods_) that we can use to modify them. Here are three important methods. If you want to see all the methods available, please visit https://www.w3schools.com/python/python_ref_list.asp.\n",
    "\n",
    "#### .append\n",
    "\n",
    "To add data to a list, you can use the `.append` method. This adds the specified value to the end of the list.  \n",
    "\n",
    "Example:  \n",
    "`my_list = [1, 2, 3]`  \n",
    "`my_list.append(4)`  \n",
    "`my_list` => `[1, 2, 3, 4]`\n",
    "\n",
    "Please note that `.append` is a standalone method. It is a common mistake to use append as such:  \n",
    "`my_list = my_list.append(element)`  \n",
    "This will not work as expected, because `.append` does not return a list.    \n",
    "\n",
    "#### .extend\n",
    "\n",
    "To add data from one list to another, you can use the `.extend` method. This adds the _elements_ of a list (or any other iterable) to the end of another list.  \n",
    "\n",
    "Example:  \n",
    "`main_list = [1, 2, 3]`  \n",
    "`extra_elements_list = [4, 5, 6]`  \n",
    "`main_list.extend(extra_elements_list)`  \n",
    "`main_list` => `[1, 2, 3, 4, 5, 6]`  \n",
    "\n",
    "Please note that `.extend` is a standalone method. It is a common mistake to use extend as such:  \n",
    "`my_list = my_list.extend(second_list)`  \n",
    "This will not work as expected, because `.extend` does not return a list.  \n",
    "\n",
    "#### .pop\n",
    "\n",
    "To remove a list's element at a specified index, you can use the `.pop` method. This removes the element at the specified index in the list, and it also _returns_ that element.  \n",
    "\n",
    "Example:  \n",
    "`my_list = [\"one\", \"two\", \"three\", \"four\", \"five\"]`  \n",
    "`removed_element = my_list.pop(0)`  \n",
    "`my_list` => `[\"two\", \"three\", \"four\", \"five\"]`  \n",
    "`removed_element` => `\"one\"`  \n",
    "\n",
    "`.pop` can be used on its own to simply remove an element, or it can be assigned to a variable to store the removed element for later."
   ]
  },
  {
   "cell_type": "markdown",
   "id": "ec7b460d-372e-493c-93a2-b4f94e95c830",
   "metadata": {},
   "source": [
    "### Checkpoint\n",
    "\n",
    "Let us define `some_list = [1, 2, 3, 4]`.  \n",
    "\n",
    "What is the difference between:  \n",
    "`some_list.append([5, 6, 7])` and  \n",
    "`some_list.extend([5, 6 ,7])`?"
   ]
  },
  {
   "cell_type": "code",
   "execution_count": null,
   "id": "36ec58e1-286b-4c8c-80c9-a3007b71774f",
   "metadata": {},
   "outputs": [],
   "source": []
  },
  {
   "cell_type": "markdown",
   "id": "e6bd5f38-50d4-4805-b524-a9cd7bce5849",
   "metadata": {},
   "source": [
    "### 3.5: Dictionaries\n",
    "\n",
    "A Python dictionary is a \"mapping\" of _keys_ to _values_. Dictionary literals are written with curly braces {}. Between the curly braces are the key-value pairs, where the key is separated from the value with a colon.  \n",
    "\n",
    "This definition is admittedly not very intuitive, so let's see a dictionary in a code cell."
   ]
  },
  {
   "cell_type": "code",
   "execution_count": null,
   "id": "dbcd377b-7890-43e9-85a0-b4bf76491556",
   "metadata": {},
   "outputs": [],
   "source": [
    "my_dictionary = {\n",
    "    \"key_1\": 1,\n",
    "    \"key_2\": 5,\n",
    "    \"key_3\": \"random string\"\n",
    "}"
   ]
  },
  {
   "cell_type": "markdown",
   "id": "6000c375-33a1-4376-a27c-aca8818eb444",
   "metadata": {},
   "source": [
    "Some notes on dictionaries:\n",
    "1. You can access a specific value in a dictionary with the same syntax as accessing an element in a list with its index. (e.g., `my_dictionary[\"key_2\"]` => `5`)\n",
    "2. You can change a value in a key-value pair by re-assigning the key. (e.g., `my_dictionary[\"key_3\"] = \"another string\"`) You can add a brand new key-value pair by simply assigning the new key to a value.\n",
    "3. You can remove a specific key-value pair with the `del` keyword. (e.g., `del my_dictionary[\"key_1\"]`)\n",
    "4. You can store other intermediate data types as values in dictionaries. (e.g., `my_dictionary = {\"some_key\": {\"nested_key\": \"nested_value\"}}`) This makes them incredibly flexible. Be aware that this property will probably come up a lot in exercises and problems."
   ]
  },
  {
   "cell_type": "markdown",
   "id": "7bce977b-0cdb-4727-8af7-2db8fdc8b8a4",
   "metadata": {},
   "source": [
    "### 3.6: Dictionary Methods\n",
    "\n",
    "Like lists, dictionaries have methods that you can use to interact with them. Here are a few. If you want to see all the available methods, please visit https://www.w3schools.com/python/python_ref_dictionary.asp.\n",
    "\n",
    "#### .update\n",
    "\n",
    "To add key-value pairs from one dictionary to another, you can use the `.update` method. This is roughly analogous to a list's `.extend` method: `.update` takes the key-value pairs within the argument dictionary and adds them to the operand dictionary. If there are overlapping keys in the new dictionary, the new keys (and their respective values) override the old dictionary's keys and values.  \n",
    "\n",
    "Example:  \n",
    "`main_dictionary = {\"key1\": \"value1\"}`  \n",
    "`main_dictionary.update({\"key2\": \"value2\"})`  \n",
    "`main_dictionary` => `{\"key1\": \"value1\", \"key2\": \"value2\"}`  \n",
    "\n",
    "#### .items  \n",
    "\n",
    "This dictionary method returns an _iterable_ of keys and values. This is how you can run a `for` loop over a dictionary's keys and items for processing. (You can technically iterate directly over a dictionary, but this will only yield the keys. The `.items` method is a more direct and readable way of getting both keys and items.)  \n",
    "\n",
    "This will be clearer in a code cell than in markdown:"
   ]
  },
  {
   "cell_type": "code",
   "execution_count": 1,
   "id": "9b87507b-ee00-4255-8c6f-169abcd5dcf3",
   "metadata": {},
   "outputs": [
    {
     "name": "stdout",
     "output_type": "stream",
     "text": [
      "key1 value1\n",
      "key2 value2\n",
      "key3 value3\n"
     ]
    }
   ],
   "source": [
    "main_dictionary = {\"key1\": \"value1\", \"key2\": \"value2\", \"key3\": \"value3\"}\n",
    "for k, v in main_dictionary.items():\n",
    "    print(k, v)"
   ]
  },
  {
   "cell_type": "markdown",
   "id": "031fa8f3-aa69-4ffa-8bf1-b68062f7424c",
   "metadata": {},
   "source": [
    "### Checkpoint\n",
    "\n",
    "I have a nested dictionary:"
   ]
  },
  {
   "cell_type": "code",
   "execution_count": null,
   "id": "82c6d7b3-886b-40f2-abc4-80d2007dcce3",
   "metadata": {},
   "outputs": [],
   "source": [
    "nested_dictionary = {\n",
    "    \"sub_dictionary1\": {\n",
    "        \"key1\": \"value1\",\n",
    "        \"key2\": \"value2\"\n",
    "    },\n",
    "    \"sub_dictionary2\": {\n",
    "        \"key3\": \"value3\",\n",
    "        \"key4\": \"value4\"\n",
    "    }\n",
    "}"
   ]
  },
  {
   "cell_type": "markdown",
   "id": "e059396e-9fe9-49ce-9393-4f5d60bc15b0",
   "metadata": {},
   "source": [
    "Do the following exercises:\n",
    "1. Write a nested for loop that prints all the key-value pairs on the bottom level of this nested dictionary.\n",
    "2. Change the value of \"key4\" to \"changed value\"."
   ]
  },
  {
   "cell_type": "code",
   "execution_count": null,
   "id": "cc090c9e-39f0-4303-9d15-50ac7beecb41",
   "metadata": {},
   "outputs": [],
   "source": []
  },
  {
   "cell_type": "markdown",
   "id": "da0d2488-881c-4944-b0d4-0a889b00d444",
   "metadata": {},
   "source": [
    "### 3.7: Tuples and Sets\n",
    "\n",
    "Tuples and sets are somewhat less common in introductory Python than lists and dictionaries, but they may come up every now and then. Let's briefly go over what they are and how they can be useful.  \n",
    "\n",
    "#### Tuples\n",
    "\n",
    "A _tuple_ is basically an immutable (unchangeable) list. Their literals are defined with parentheses instead of brackets:  \n",
    "\n",
    "`my_tuple = (1, 2, 3)`  vs.\n",
    "`my_list = [1, 2, 3]`  \n",
    "\n",
    "Tuples are usually _faster_ (processing-wise) than lists because Python can optimize them in memory since their values don't change. For our purposes right now, this will not be very relevant, but it becomes relevant when you begin working with larger sets of data.  \n",
    "\n",
    "#### Sets\n",
    "\n",
    "A _set_ is a collection of unique values. Their literals are defined with curly brackets (like dictionaries), but they contain standalone values, not key-value pairs:  \n",
    "\n",
    "`my_set = {1, 2, 3}`  \n",
    "\n",
    "Sets are useful because they have _unique_ values. It is a common pattern in Python to use the `set` constructor to get the unique values from a list:  \n",
    "\n",
    "`unique_list_values = set(list_with_repeating_values)`"
   ]
  },
  {
   "cell_type": "markdown",
   "id": "3446de37-c3be-4e3e-aebb-036a0f6254de",
   "metadata": {},
   "source": [
    "### Checkpoint\n",
    "\n",
    "Take the following list and the following tuple. Do they have the same unique values? Use the `set` constructor to find out."
   ]
  },
  {
   "cell_type": "code",
   "execution_count": 3,
   "id": "e16af79e-bd03-464b-b105-1adcc5aec1a8",
   "metadata": {},
   "outputs": [],
   "source": [
    "my_tuple = (1, 1, 2, 3, 3, 3, 4, 5, 5, 1, 2)\n",
    "my_list = [1, 2, 3, 4, 5, 1, 2, 3]"
   ]
  },
  {
   "cell_type": "markdown",
   "id": "06bdd6f2-b007-42f1-92f2-a55a3ec9e5ad",
   "metadata": {},
   "source": [
    "### 3.8: Very important notes on intermediate data types\n",
    "\n",
    "Before you begin using intermediate data types, you need to know some of their important characteristics.  \n",
    "\n",
    "#### Reference vs. Value  \n",
    "\n",
    "When storing intermediate data types in variables, they are actually stored as _references_ to a data object that exists somewhere in memory. Think of it as storing the address to a house in a variable instead of the entire house.  \n",
    "\n",
    "This has a very important implication for using these data types. Look at the following code:  "
   ]
  },
  {
   "cell_type": "code",
   "execution_count": 5,
   "id": "ad359051-00a3-484f-aa2b-cc5745a37121",
   "metadata": {},
   "outputs": [
    {
     "name": "stdout",
     "output_type": "stream",
     "text": [
      "10\n",
      "11\n"
     ]
    }
   ],
   "source": [
    "number_1 = 10\n",
    "number_2 = number_1\n",
    "number_2 = 11\n",
    "\n",
    "print(number_1)\n",
    "print(number_2)"
   ]
  },
  {
   "cell_type": "markdown",
   "id": "c379eb07-5e57-4544-9bc5-ebfe7595f14a",
   "metadata": {},
   "source": [
    "This is how we normally expect variables to behave when we assign one variable to another. \"Primitive\" values are usually copied by _value_. However, this is not the case with intermediate data types."
   ]
  },
  {
   "cell_type": "code",
   "execution_count": 6,
   "id": "e9d32ea6-ae5d-46ff-b06f-766ae2d1d8dc",
   "metadata": {},
   "outputs": [
    {
     "name": "stdout",
     "output_type": "stream",
     "text": [
      "[1, 2, 3, 4]\n",
      "[1, 2, 3, 4]\n"
     ]
    }
   ],
   "source": [
    "list_1 = [1, 2, 3]\n",
    "list_2 = list_1\n",
    "list_2.append(4)\n",
    "\n",
    "print(list_1)\n",
    "print(list_2)"
   ]
  },
  {
   "cell_type": "markdown",
   "id": "f8ecff07-7270-4006-a76c-f84658699f5a",
   "metadata": {},
   "source": [
    "In this example, `list_2` actually contained a _reference_ to the list referred to by `list_1`. In fact, the variable `list_1` itself  contained a reference to the underlying list as well. In effect, when you change either `list_1` or `list_2`, you are changing the underlying list. This is why changing `list_2` changed `list_1` as well. They are not distinct entities! Be mindful of this behavior when coding.  \n",
    "\n",
    "If you want to copy the _value_ of a list instead of a reference, you can use a list's `.copy` method. This way, the variables contain distinct lists."
   ]
  },
  {
   "cell_type": "code",
   "execution_count": 7,
   "id": "1dadbc6a-7122-4d79-a795-f59b0f6c4a39",
   "metadata": {},
   "outputs": [
    {
     "name": "stdout",
     "output_type": "stream",
     "text": [
      "[1, 2, 3]\n",
      "[1, 2, 3, 4]\n"
     ]
    }
   ],
   "source": [
    "list_1 = [1, 2, 3]\n",
    "list_2 = list_1.copy()\n",
    "list_2.append(4)\n",
    "\n",
    "print(list_1)\n",
    "print(list_2)"
   ]
  },
  {
   "cell_type": "markdown",
   "id": "a14d5621-3dd9-4b8d-9303-760893823c39",
   "metadata": {},
   "source": [
    "The same principle applies to dictionaries and sets. (Tuples are immutable anyway, so this principle is not relevant to them.)  \n",
    "\n",
    "This pass-by-reference principle also applies to functions:"
   ]
  },
  {
   "cell_type": "code",
   "execution_count": 9,
   "id": "2f9813ea-d4e4-48bd-9901-987743a06fc9",
   "metadata": {},
   "outputs": [
    {
     "data": {
      "text/plain": [
       "['Changed']"
      ]
     },
     "execution_count": 9,
     "metadata": {},
     "output_type": "execute_result"
    }
   ],
   "source": [
    "my_list = []\n",
    "\n",
    "def change_list(some_list):\n",
    "    some_list.append(\"Changed\")\n",
    "    \n",
    "change_list(my_list)\n",
    "\n",
    "my_list"
   ]
  },
  {
   "cell_type": "code",
   "execution_count": null,
   "id": "1c0379dc-c176-4b38-9947-bf4a9d39f12b",
   "metadata": {},
   "outputs": [],
   "source": []
  }
 ],
 "metadata": {
  "kernelspec": {
   "display_name": "Python 3",
   "language": "python",
   "name": "python3"
  },
  "language_info": {
   "codemirror_mode": {
    "name": "ipython",
    "version": 3
   },
   "file_extension": ".py",
   "mimetype": "text/x-python",
   "name": "python",
   "nbconvert_exporter": "python",
   "pygments_lexer": "ipython3",
   "version": "3.9.5"
  }
 },
 "nbformat": 4,
 "nbformat_minor": 5
}

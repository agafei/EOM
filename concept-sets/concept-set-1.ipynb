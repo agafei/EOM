{
 "cells": [
  {
   "cell_type": "markdown",
   "id": "496899a7-17e8-4f38-b2ad-6b1429e9d614",
   "metadata": {},
   "source": [
    "# Concept Set 1\n",
    "## Topic: Basic Python concepts\n",
    "\n",
    "by Joe Ilagan\n",
    "\n",
    "This concept set is meant for people who have no experience with programming at all. If you have experience with programming, you may ignore the concept sets that tackle topics you've mastered."
   ]
  },
  {
   "cell_type": "markdown",
   "id": "3e4df740-fd2c-48c3-8a4d-55d0fcaecec8",
   "metadata": {},
   "source": [
    "### 1.1: Your First Python Code\n",
    "\n",
    "When learning a new language, it is a very common first step to make the console print \"Hello world!\"\n",
    "\n",
    "Type:  \n",
    "`print(\"Hello world!\")`  \n",
    "in the cell below.\n",
    "\n",
    "Highlight the cell and press the play button (or press Shift + Enter) to run the code in the cell."
   ]
  },
  {
   "cell_type": "code",
   "execution_count": null,
   "id": "8193f040-2158-48ac-8de8-b83b313d1c97",
   "metadata": {},
   "outputs": [],
   "source": []
  },
  {
   "cell_type": "markdown",
   "id": "91f27197-1ebf-405c-8bd9-b8ed28b2ee71",
   "metadata": {},
   "source": [
    "Congratulations! The code in the cell above is already a full Python program. You've successfully written your first script.  \n",
    "\n",
    "The `print` function (bear with me for now, we will learn what functions are later) outputs the value within the parentheses to the console. Console output is a foundational part of programming.  \n",
    "\n",
    "Let's get comfortable with the very basics of coding. As a programmer, you will be able to change your scripts to make the computer act in different ways. In this case, you can make the `print` function print any text of your choice.  \n",
    "\n",
    "In the cell below, write the same program, but replace `\"Hello world!\"` with any text of your choice.  \n",
    "Run it. What happens?\n"
   ]
  },
  {
   "cell_type": "code",
   "execution_count": null,
   "id": "bd2f3173-9bbc-4d6f-9b16-da29e3e35a27",
   "metadata": {},
   "outputs": [],
   "source": []
  },
  {
   "cell_type": "markdown",
   "id": "6bc9659c-6fb3-43a2-bd62-b4ef956d7b54",
   "metadata": {},
   "source": [
    "Scripts are (almost all of the time) longer than one line. Lines of code run in sequence (i.e., one after the other).  \n",
    "\n",
    "In the cell below, copy the `print(\"Hello world\")` statement 3 times as follows:  \n",
    "\n",
    "`print(\"Hello world 1!\")`  \n",
    "`print(\"Hello world 2!\")`  \n",
    "`print(\"Hello world 3!\")`  \n",
    "\n",
    "Run it. What happens?"
   ]
  },
  {
   "cell_type": "code",
   "execution_count": null,
   "id": "5d0be33e-cdce-4d22-894b-0b980df4089c",
   "metadata": {},
   "outputs": [],
   "source": []
  },
  {
   "cell_type": "markdown",
   "id": "403e4985-5b5f-4798-9998-94d1b0f0c600",
   "metadata": {},
   "source": [
    "### Checkpoint\n",
    "\n",
    "Write a simple Python program that prints the first five letters of the alphabet.  \n",
    "\n",
    "Write a program that outputs the following:  \n",
    "`A`  \n",
    "`B`  \n",
    "`C`  \n",
    "`D`  \n",
    "`E`  "
   ]
  },
  {
   "cell_type": "code",
   "execution_count": null,
   "id": "ead3812c-66eb-4442-9662-5abd348e77c2",
   "metadata": {},
   "outputs": [],
   "source": []
  },
  {
   "cell_type": "markdown",
   "id": "0ffbc41d-87a2-4576-9577-6c1cf847e93d",
   "metadata": {},
   "source": [
    "### 1.2: Variables"
   ]
  },
  {
   "cell_type": "markdown",
   "id": "e5475739-622c-4724-b5ba-7d0e1d3a9e21",
   "metadata": {},
   "source": [
    "In math, you can use names like `x` to refer to number values that are unknown or can change. These are called variables.  \n",
    "\n",
    "Let's say a mathematician writes `x = 3` on the board. When they write `x` further down their calculations, you know that they are actually referring to the value `3`.\n",
    "\n",
    "The same concept exists in programming.  \n",
    "\n",
    "#### Variable naming requirements\n",
    "\n",
    "When naming a variable in Python, you must follow these rules:\n",
    "\n",
    "1. Variable names can only contain alphanumeric characters (A-Z, a-z, and 0-9) and underscores (_).\n",
    "2. Variable names cannot start with a number.\n",
    "\n",
    "#### Variable naming conventions\n",
    "\n",
    "When naming a variable, you should (but can technically ignore) these guidelines:  \n",
    "\n",
    "1. Use descriptive variable names. The longer your program is, the more important having descriptive names is. (e.g., in real programs, do not name your variables x, y, z, xx, xxx. Use descriptive names like first_fibonacci_term, final_sum, etc.)\n",
    "2. Use \"snake case\" to separate words. Snake case is the convention in Python. (e.g., a variable you want to name \"final sum\" should have the name final_sum, not finalSum, finalsum, FinalSum, etc.)\n",
    "\n",
    "\n",
    "Let's define your first variable. In the cell below, write `x = 3` to define a variable, `x`, that holds the value `3`.  \n",
    "\n",
    "Run it. What happens?"
   ]
  },
  {
   "cell_type": "code",
   "execution_count": null,
   "id": "732aabe7-9116-41b5-a15a-c443a383c81b",
   "metadata": {},
   "outputs": [],
   "source": []
  },
  {
   "cell_type": "markdown",
   "id": "8c503d58-3f4a-427f-a719-a1c3b742e12d",
   "metadata": {},
   "source": [
    "Nothing happened, right? The act of assigning a variable a value does not normally produce any console output, but it happened in the background.  \n",
    "\n",
    "In the cell below, write `print(x)` (or simply write `x`, though this will only work in Jupyter notebooks).  \n",
    "\n",
    "Run it. What happens?"
   ]
  },
  {
   "cell_type": "code",
   "execution_count": null,
   "id": "43eefb88-840e-459b-9437-dff17de9f3f2",
   "metadata": {},
   "outputs": [],
   "source": []
  },
  {
   "cell_type": "markdown",
   "id": "6690f0e9-002c-4404-8f05-7e9278c2983f",
   "metadata": {},
   "source": [
    "The cell above should have printed `3`.  \n",
    "\n",
    "If you want to explore this more, you can back and change the value of `x` to any other number. When you run `print(x)` after setting `x` to another number, the console should print the number you assigned `x` to.  \n",
    "\n",
    "Variables keep their values until they are given different ones. Type this code in the cell below:  \n",
    "\n",
    "`a = 10`  \n",
    "`print(a)`  \n",
    "`a = 15`  \n",
    "`print(a)`  \n",
    "\n",
    "Run it. What happens?"
   ]
  },
  {
   "cell_type": "code",
   "execution_count": null,
   "id": "ca74b9b7-0444-429a-bdd1-4a9f5c9cab50",
   "metadata": {},
   "outputs": [],
   "source": []
  },
  {
   "cell_type": "markdown",
   "id": "d44998d5-5050-405e-aa46-37eafbad64f7",
   "metadata": {},
   "source": [
    "### Checkpoint\n",
    "\n",
    "Write a program that prints the first five letters of the alphabet. This time, make sure that you only reference variables, not the values themselves, inside the `print()` functions.\n",
    "\n",
    "Write a program that outputs the following:  \n",
    "`A`  \n",
    "`B`  \n",
    "`C`  \n",
    "`D`  \n",
    "`E`  "
   ]
  },
  {
   "cell_type": "code",
   "execution_count": null,
   "id": "cb3625f1-9e76-49b7-90b0-b02a996be216",
   "metadata": {},
   "outputs": [],
   "source": []
  },
  {
   "cell_type": "markdown",
   "id": "0245ffc8-d8ff-4160-b561-22f85c86b3ff",
   "metadata": {},
   "source": [
    "### 1.3: Data Types\n",
    "\n",
    "You may have noticed that there are a few different types of values we can use in Python.  \n",
    "\n",
    "#### Integers\n",
    "\n",
    "Integers, or ints, are whole numbers (i.e., no decimals).   \n",
    "They are denoted simply as whole numbers. There are no special characters that denote an int.  \n",
    "\n",
    "These are examples of valid ints:  \n",
    "`1`  \n",
    "`23`  \n",
    "`5000629`  \n",
    "\n",
    "#### Floats\n",
    "\n",
    "Floats are numbers with decimals.  \n",
    "They are denoted as decimal numbers. The dot indicates that the number is a float and not an int.  \n",
    "\n",
    "These are examples of valid floats:  \n",
    "`4.0`  \n",
    "`3.1415`  \n",
    "`5.`  \n",
    "\n",
    "#### Strings\n",
    "\n",
    "Strings are a sequence of characters. They are surrounded by quotes (single quotes, ', or double quotes, \").  \n",
    "\n",
    "It's not very intuitive when described, so these are examples of valid strings:  \n",
    "`\"Hello world\"`  \n",
    "`\"He\"`  \n",
    "`'Hello world'`  \n",
    "`'H'`  \n",
    "`\" \"`  \n",
    "`\"\"` (Yes, a string can be empty.)  \n",
    "\n",
    "Please note that while strings are a very common data type in Python, they are not a _primitive_ (i.e., atomic, indivisible, unsplittable, etc.) data type. (All this means is that they are more complex than numbers and booleans.) In other programming languages, strings are actually a list (or an \"array\") of _characters_, which are the primitive data type. We will tackle strings further later.\n",
    "\n",
    "#### Booleans\n",
    "\n",
    "Booleans represent either true or false. There are only two ways to represent a pure boolean:  \n",
    "`True`  \n",
    "`False`  \n",
    "\n",
    "#### Casting\n",
    "\n",
    "If you need to turn a variable from one data type to another, you can use a constructor function to do so. This process is called _casting_.  \n",
    "\n",
    "Here are some common constructors that you might use:  \n",
    "\n",
    "`int()`  \n",
    "`float()`  \n",
    "`str()`  \n",
    "`bool()` (not used as often as the others.)  \n",
    "\n",
    "Examples:  \n",
    "`int(\"3\")` => `3`  \n",
    "`string(402)` => `\"402\"`  \n",
    "\n",
    "Note that this will not work for all cases.  \n",
    "\n",
    "Examples:  \n",
    "`int(\"Hello\")` will yield an error.  \n",
    "\n",
    "#### Things to remember\n",
    "\n",
    "1. Generally, do not mix data types. It can be done sometimes, but it will give you a headache.\n",
    "2. It is advisable to know what data type a variable will hold before doing operations on it.\n",
    "\n",
    "There is no checkpoint exercise for this part, but it will be foundational for the next part."
   ]
  },
  {
   "cell_type": "code",
   "execution_count": null,
   "id": "d11db479-4f97-4b0a-b6c6-7e51b5343636",
   "metadata": {},
   "outputs": [],
   "source": []
  },
  {
   "cell_type": "markdown",
   "id": "1234142b-5bee-4873-9710-dd040c6bc1ff",
   "metadata": {},
   "source": [
    "### 1.4: Operations\n",
    "\n",
    "Much like in math, you can perform operations on values.  \n",
    "\n",
    "#### Numerical Operations\n",
    "\n",
    "Addition  \n",
    "`a + b`  \n",
    "Subtraction  \n",
    "`a - b`  \n",
    "Multiplication  \n",
    "`a * b`  \n",
    "Division  \n",
    "`a / b` (results in float)  \n",
    "Floor division  \n",
    "`a // b` (results in int, takes the floor of the result)  \n",
    "Exponentiation  \n",
    "`a ** b` (i.e., a raised to b)  \n",
    "Modulo  \n",
    "`a % b` (takes remainder of division)  \n",
    "\n",
    "Try some of these operations out in the cell below.\n"
   ]
  },
  {
   "cell_type": "code",
   "execution_count": null,
   "id": "46a46dad-11b6-4345-ba61-bfaeac5e612e",
   "metadata": {},
   "outputs": [],
   "source": [
    "a = 8\n",
    "b = 2\n",
    "\n",
    "# Try the operations! Write below.\n"
   ]
  },
  {
   "cell_type": "markdown",
   "id": "f1c1a6d0-262e-4147-b654-fcc076f1c5aa",
   "metadata": {},
   "source": [
    "#### Comparison operations\n",
    "\n",
    "Comparison operations yield `True` if the comparison is true and `False` if the comparison is false.  \n",
    "\n",
    "Greater than  \n",
    "`a > b`  \n",
    "Greater than or equal to  \n",
    "`a >= b`  \n",
    "Less than  \n",
    "`a < b`  \n",
    "Less than or equal to  \n",
    "`a <= b`  \n",
    "Equal to  \n",
    "`a == b` (please note the double equals.)  \n",
    "Not equal to  \n",
    "`a != b`  \n",
    "\n"
   ]
  },
  {
   "cell_type": "code",
   "execution_count": null,
   "id": "cfb37a4f-7cf0-42ef-9545-9fc71d58c9ae",
   "metadata": {},
   "outputs": [],
   "source": [
    "a = 8\n",
    "b = 2\n",
    "c = 5\n",
    "\n",
    "# Try the operations! Write below.\n"
   ]
  },
  {
   "cell_type": "markdown",
   "id": "9ab3cd0b-30a5-4528-a195-67ba4e1ed4d4",
   "metadata": {},
   "source": [
    "#### Logical operations\n",
    "\n",
    "Logical operations yield `True` if the truth value of their logical statement is true and `False` otherwise. This will become more intuitive when you see it in action.  \n",
    "\n",
    "Logical OR  \n",
    "`or`  \n",
    "Logical AND  \n",
    "`and`  \n",
    "Logical NOT  \n",
    "`not`  \n",
    "\n",
    "Examples:  \n",
    "`True or False` => `True`  \n",
    "`True and False` => `False`  \n",
    "`not True` => `False`  "
   ]
  },
  {
   "cell_type": "code",
   "execution_count": 12,
   "id": "5bb21850-2904-4563-b6f1-d95019fe58e9",
   "metadata": {},
   "outputs": [],
   "source": [
    "a = True\n",
    "b = False\n",
    "\n",
    "# Try the operations! Write below.\n"
   ]
  },
  {
   "cell_type": "markdown",
   "id": "831ad613-0df4-4a50-95a5-4500e124c281",
   "metadata": {},
   "source": [
    "### Checkpoint\n",
    "\n",
    "I mentioned before that you should be aware of what data types you are using. I also advised against mixing data types as a beginner. Now, let us explore why.   \n",
    "\n",
    "In Python, is `\"1\"` the same as `1`? Is `1` the same as `True`?  \n",
    "\n",
    "Use operations to find out."
   ]
  },
  {
   "cell_type": "code",
   "execution_count": null,
   "id": "bd0a10a2-7f05-4458-8a9e-2ac2c1623b3f",
   "metadata": {},
   "outputs": [],
   "source": []
  },
  {
   "cell_type": "markdown",
   "id": "7cd57962-cc9b-4ee2-8225-05bb94564d6b",
   "metadata": {},
   "source": [
    "### 1.5: A note on strings\n",
    "\n",
    "Strings are not a \"primitive\" data type, but they are such a common data type that we must discuss how to deal with them.  \n",
    "\n",
    "These ways of dealing with strings will make more sense when we discuss _lists_ in Python.\n",
    "\n",
    "#### Concatenating strings\n",
    "\n",
    "You can _concatenate_ (read: join) strings with the + operator.  \n",
    "`\"Hello\" + \" \" + \"world!\"` => `\"Hello world!\"`  \n",
    "\n",
    "#### Formatting strings\n",
    "\n",
    "If you need to construct a string from many variables, you can use a template called an f-string (format string).  \n",
    "A format string is a string preceded by an `f`. Variables are placed in between curly brackets {}.  \n",
    "`a = 10`  \n",
    "`b = 15`  \n",
    "`f\"a is {a}, b is {b}, and their sum is {a + b}.\"` => `\"a is 10, b is 15, and their sum is 25.\"`  \n",
    "\n",
    "#### \"Slicing\" strings\n",
    "\n",
    "Strings are lists of characters. You can \"pick out\" a character by specifying the _index_ of the character within the string.  \n",
    "Please note that indexes start at `0`.  \n",
    "\n",
    "`\"Hello world!\"[0]` => `\"H\"`  \n",
    "`\"Hello world!\"[1]` => `\"e\"`  \n",
    "\n",
    "You can select a \"substring\" by specifying the start index (inclusive) and the end index (exclusive) of your desired substring.  \n",
    "\n",
    "`\"Hello world!\"[0:5]` => `\"Hello\"`  \n",
    "\n",
    "You can select from the _end_ of a string by using negative numbers. Negative indexes start at `-1` and descend from there.  \n",
    "\n",
    "`\"Hello world!\"[-1]` => `\"!\"`  \n",
    "\n",
    "#### Getting the length of a string  \n",
    "\n",
    "The expression `len(my_string)` will give you the length of the string as an integer.  \n",
    "\n",
    "`len(\"Hello\")` => `5`"
   ]
  },
  {
   "cell_type": "markdown",
   "id": "d2372afa-03c1-4aa9-806e-0157cc1a425e",
   "metadata": {},
   "source": [
    "### Checkpoint\n",
    "\n",
    "Given the variable `my_string = \"Hello, Mark, it's nice to finally meet you.\"`, write a program that constructs the string `\"Hi, Mark.\"` without writing any string literals of your own."
   ]
  },
  {
   "cell_type": "code",
   "execution_count": 24,
   "id": "3c40c7e3-90e2-4111-9312-3a87a733b46e",
   "metadata": {},
   "outputs": [],
   "source": [
    "my_string = \"Hello, Mark, it's nice to finally meet you.\""
   ]
  }
 ],
 "metadata": {
  "kernelspec": {
   "display_name": "Python 3",
   "language": "python",
   "name": "python3"
  },
  "language_info": {
   "codemirror_mode": {
    "name": "ipython",
    "version": 3
   },
   "file_extension": ".py",
   "mimetype": "text/x-python",
   "name": "python",
   "nbconvert_exporter": "python",
   "pygments_lexer": "ipython3",
   "version": "3.9.5"
  }
 },
 "nbformat": 4,
 "nbformat_minor": 5
}

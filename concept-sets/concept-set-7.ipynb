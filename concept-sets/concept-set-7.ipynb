{
 "cells": [
  {
   "cell_type": "markdown",
   "id": "ceced098-8c4a-49ee-a711-8e9a306553a0",
   "metadata": {},
   "source": [
    "# Concept Set 7\n",
    "## Topic: Data Visualization with Matplotlib and Seaborn\n",
    "\n",
    "by Joe Ilagan\n",
    "\n",
    "This concept set is meant for people who have no experience with programming at all. If you have experience with programming, you may ignore the concept sets that tackle topics you've mastered."
   ]
  },
  {
   "cell_type": "code",
   "execution_count": null,
   "id": "40e7b359-c333-48bb-897c-6b21fa3d21e7",
   "metadata": {},
   "outputs": [],
   "source": []
  }
 ],
 "metadata": {
  "kernelspec": {
   "display_name": "Python 3",
   "language": "python",
   "name": "python3"
  },
  "language_info": {
   "codemirror_mode": {
    "name": "ipython",
    "version": 3
   },
   "file_extension": ".py",
   "mimetype": "text/x-python",
   "name": "python",
   "nbconvert_exporter": "python",
   "pygments_lexer": "ipython3",
   "version": "3.9.5"
  }
 },
 "nbformat": 4,
 "nbformat_minor": 5
}

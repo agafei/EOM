{
 "cells": [
  {
   "cell_type": "markdown",
   "id": "45af46c3-8940-4597-bb48-6ec0aa35486d",
   "metadata": {},
   "source": [
    "# Concept Set 2\n",
    "## Topic: Control Flows\n",
    "\n",
    "by Joe Ilagan\n",
    "\n",
    "This concept set is meant for people who have no experience with programming at all. If you have experience with programming, you may ignore the concept sets that tackle topics you've mastered."
   ]
  },
  {
   "cell_type": "markdown",
   "id": "807b420e-b88e-494b-a15e-2f2f65043753",
   "metadata": {},
   "source": [
    "### 2.1: What are control flows?\n",
    "\n",
    "You may have noticed that so far, the lines of code we write run in one order: from top to bottom.  \n",
    "\n",
    "Most of the time, such a simple structure is not enough to meet the requirements of a program. We need a way to modify the order in which lines of code are executed. This is what _control flows_ are for.  \n",
    "\n",
    "#### Conditionals\n",
    "\n",
    "Conditionals are control flows that run code if certain conditions are met. If these conditions are not met, then the code does not execute.  \n",
    "\n",
    "#### Loops\n",
    "\n",
    "Loops are control flows that run code multiple times. Loops can run for either a set number of times or while a condition is met.  \n",
    "\n",
    "There is no checkpoint for this section, but it will be foundational for the next part."
   ]
  },
  {
   "cell_type": "code",
   "execution_count": null,
   "id": "d2516cf5-7a9f-4e6b-a4c5-384c2655d4cf",
   "metadata": {},
   "outputs": [],
   "source": []
  },
  {
   "cell_type": "markdown",
   "id": "11d9c2d4-2b34-4153-9164-b6d058926e3d",
   "metadata": {},
   "source": [
    "### 2.2: Conditional: The if-elif-else (if) statement \n",
    "\n",
    "The if-elif-else control flow, commonly called the `if` block, is the only conditional control flow in Python right now. (Other languages have another conditional control flow called the `switch` statement.)  \n",
    "\n",
    "The following cell is how we can structure if blocks."
   ]
  },
  {
   "cell_type": "code",
   "execution_count": null,
   "id": "04d5f354-95e8-4847-8435-443f85a22dd3",
   "metadata": {},
   "outputs": [],
   "source": [
    "condition_1 = False\n",
    "condition_2 = False\n",
    "condition_3 = True\n",
    "\n",
    "# pass just means \"do nothing.\"\n",
    "# This block doesn't do anything. It's just for demonstration.\n",
    "\n",
    "# Note the indentation! Indentation is critical in Python. It tells the Python interpreter which code belongs under a block.\n",
    "\n",
    "if condition_1:\n",
    "    # do something\n",
    "    pass\n",
    "elif condition_2:\n",
    "    # do something else\n",
    "    pass\n",
    "elif condition_3:\n",
    "    # do something else\n",
    "    pass\n",
    "else:\n",
    "    # do something else\n",
    "    pass"
   ]
  },
  {
   "cell_type": "markdown",
   "id": "09637ca8-471e-4dff-9fa5-157b683a1520",
   "metadata": {},
   "source": [
    "When your code reaches an if block, it seeks out the first condition that is true. Once it finds a condition that is true, it executes the code under that branch _and then exits the whole branch._  \n",
    "\n",
    "Some notes on the if block:\n",
    "1. You need exactly one if branch. (The if branch starts the if block.)\n",
    "2. You can have any number of elif branches, but they are not required. \n",
    "3. You can have one else branch, but it is not required."
   ]
  },
  {
   "cell_type": "markdown",
   "id": "9016d400-a282-44f9-8f9a-a28a13b1b715",
   "metadata": {},
   "source": [
    "### Checkpoint\n",
    "\n",
    "Write a program that, given a number grade from 0 to 100, prints the equivalent letter grade."
   ]
  },
  {
   "cell_type": "code",
   "execution_count": null,
   "id": "c77aa283-f075-4027-80e5-d93e8f093f6f",
   "metadata": {},
   "outputs": [],
   "source": [
    "number_grade = 91"
   ]
  },
  {
   "cell_type": "markdown",
   "id": "a13cb0d7-1caf-474a-8c77-6dd7cacc73ee",
   "metadata": {},
   "source": [
    "### 2.3: Loop: The while loop  \n",
    "\n",
    "The while loop is one of two basic loops in Python. It is arguably the more simple loop.  \n",
    "\n",
    "It runs the code under its block (i.e., the indented code) _while_ a condition is true. Every time the block of code completes, the program returns to the top of the while loop to check if the condition is still true. If it is, then it runs the code again; if it is not, then the program moves on from the while loop.  \n",
    "\n",
    "The following cell is how we can structure while loops."
   ]
  },
  {
   "cell_type": "code",
   "execution_count": null,
   "id": "d8a2c4dd-9c45-4a6b-a666-dc0eebd39d3d",
   "metadata": {},
   "outputs": [],
   "source": [
    "# General form\n",
    "\n",
    "# while [ condition ]:\n",
    "#     do something\n",
    "\n",
    "counter = 0\n",
    "\n",
    "while counter < 10:\n",
    "    print(counter)\n",
    "    counter = counter + 1"
   ]
  },
  {
   "cell_type": "markdown",
   "id": "3445e27f-ff07-44ab-b90a-fab23d759d7f",
   "metadata": {},
   "source": [
    "#### The `break` statement\n",
    "If you want to end a while loop prematurely (i.e., the condition is still true), you can have a `break` statement in the loop. This will exit the loop.  \n",
    "\n",
    "Some programmers use an alternative form of the while loop. In this alternative form, the condition given to the while loop itself is `True` (i.e., always true), and the while loop exits upon hitting a conditional `break` statement within the block."
   ]
  },
  {
   "cell_type": "code",
   "execution_count": null,
   "id": "e246da62-954b-4ac0-af41-3b97a502a920",
   "metadata": {},
   "outputs": [],
   "source": [
    "counter = 0\n",
    "\n",
    "while True:\n",
    "    print(counter)\n",
    "    counter = counter + 1\n",
    "    if counter >= 10:\n",
    "        break"
   ]
  },
  {
   "cell_type": "markdown",
   "id": "081163ef-7426-4142-9014-8735eac19cc1",
   "metadata": {},
   "source": [
    "Some notes on the while loop:\n",
    "1. It is very easy to trap your program in an _infinite loop_ if the condition never becomes false. If you get trapped in an infinite loop, just click the stop button on the top of the Jupyter notebook to halt the program.\n",
    "2. While loops are used when you don't know how many times you want to run a loop.\n",
    "3. Should you use the normal form or the alternative form? I don't mind, but I advise you to use whatever will make your program easier to read."
   ]
  },
  {
   "cell_type": "markdown",
   "id": "0839b981-19c3-42f4-ba0d-f72fac337544",
   "metadata": {},
   "source": [
    "### Checkpoint\n",
    "\n",
    "Write a program that prints the letters of a string, one by one, using a while loop."
   ]
  },
  {
   "cell_type": "code",
   "execution_count": null,
   "id": "42d1982a-f9ae-4ec5-aed2-866fa319c65a",
   "metadata": {},
   "outputs": [],
   "source": [
    "my_string = \"Hello world!\""
   ]
  },
  {
   "cell_type": "markdown",
   "id": "93ac40a5-f524-48a3-b755-2e0c226c585f",
   "metadata": {},
   "source": [
    "### 2.4: Loop: The for loop\n",
    "\n",
    "The for loop is the second basic loop type in Python. It is arguably the more complex loop, but I find myself using it far more often than the while loop.  \n",
    "\n",
    "Here are some examples of a for loop. Honestly, these can be very intuitive, but I will explain it in more detail for those with no programming experience."
   ]
  },
  {
   "cell_type": "code",
   "execution_count": null,
   "id": "04e96f57-d8c5-4f2b-a3d9-46b0877cc7eb",
   "metadata": {},
   "outputs": [],
   "source": [
    "# General form\n",
    "\n",
    "# for [ variable ] in [ iterable ]:\n",
    "#     do something\n",
    "\n",
    "# For loop 1\n",
    "for number in range(5):\n",
    "    print(number)\n",
    "    \n",
    "# For loop 2\n",
    "for letter in \"Hello\":\n",
    "    print(letter)"
   ]
  },
  {
   "cell_type": "markdown",
   "id": "9e36c9c8-90b2-49de-a1ae-439651929ce1",
   "metadata": {},
   "source": [
    "A for loop runs the code under its block one time _for each element in an iterable_. Let's unpack what this means.  \n",
    "\n",
    "#### What is an iterable? \n",
    "\n",
    "An iterable is an object that \"contains a countable number of values.\"  \n",
    "\n",
    "You are already very familiar with one type of iterable: the string. A string contains a countable number of characters: thus, it contains a countable number of values.  \n",
    "\n",
    "Another very common iterable is Python's `range()` object. The `range(start, end)` object returns an iterable set of numbers from the start (inclusive) until the end (exclusive). This is the most common way to iterate over a set of numbers in Python.\n",
    "\n",
    "Every time the for loop runs, you can \"capture\" the element that it is currently on in a variable. Here is a more explicit example."
   ]
  },
  {
   "cell_type": "code",
   "execution_count": null,
   "id": "05e8db4f-4197-4f5b-b812-0e0ddd2faef2",
   "metadata": {},
   "outputs": [],
   "source": [
    "for character in \"ITM25.03\":\n",
    "    print(f\"Current character: {character}\")"
   ]
  },
  {
   "cell_type": "markdown",
   "id": "99b6191d-2ba7-4c08-9deb-778cdbddcf55",
   "metadata": {},
   "source": [
    "### Checkpoint\n",
    "\n",
    "Write a program that gets the sum of all even numbers from 1 to 100."
   ]
  },
  {
   "cell_type": "code",
   "execution_count": null,
   "id": "1fbc2f75-935f-4c1b-af1d-4548cfdcf246",
   "metadata": {},
   "outputs": [],
   "source": []
  },
  {
   "cell_type": "markdown",
   "id": "e1596d7c-fcc4-4491-b2ef-089e33c5c80a",
   "metadata": {},
   "source": [
    "### Checkpoint\n",
    "\n",
    "Write a program that counts how many lowercase \"l\" (as in Lima) and lowercase \"o\" (as in Oscar) characters there are in this piece of text. Do not use the .count() string method."
   ]
  },
  {
   "cell_type": "code",
   "execution_count": 10,
   "id": "e8d040e7-01bb-460e-9793-9a02c5882edc",
   "metadata": {},
   "outputs": [],
   "source": [
    "text = '''\n",
    "Lorem ipsum dolor sit amet, consectetur adipiscing elit. Phasellus at vestibulum enim, viverra luctus lacus. Donec mattis maximus dolor, vitae vulputate lorem ullamcorper ut. Aliquam felis lorem, pellentesque nec dui at, blandit porta neque. Donec accumsan ex id lorem luctus, et aliquet massa fermentum. Integer pellentesque lacus eget diam auctor tincidunt. In quis nisl ut metus commodo vulputate vel non est. Fusce sed vulputate ipsum, bibendum scelerisque dui.\n",
    "Vestibulum ante ipsum primis in faucibus orci luctus et ultrices posuere cubilia curae; Maecenas sollicitudin ante leo, a interdum libero blandit id. Fusce accumsan dignissim eros ac dignissim. Praesent mauris lorem, convallis sit amet justo eu, finibus dictum sem. Quisque ornare, mauris in interdum iaculis, tellus justo rutrum ex, in tincidunt ligula elit at leo. Class aptent taciti sociosqu ad litora torquent per conubia nostra, per inceptos himenaeos. Curabitur at semper nisi, lobortis pretium purus. Aliquam iaculis aliquet eros, id pretium dui scelerisque sit amet. Vivamus nec neque velit. Praesent eget risus ut urna aliquam commodo. Donec nec efficitur orci.\n",
    "Cras non enim vel magna fermentum rutrum. Morbi facilisis pulvinar erat, non mattis ex. Donec pretium, quam non fringilla aliquam, dolor nunc vulputate ex, eu tempor erat libero vel odio. Etiam ac ultricies risus. Proin feugiat erat ac lacus iaculis, a condimentum turpis dapibus. Aliquam id risus at nisl consequat egestas sodales eget nibh. Quisque sed nibh a metus efficitur volutpat eu et risus. Aliquam eu sollicitudin sem. Sed elementum euismod tortor, id ultrices lacus. Sed eget cursus nunc.\n",
    "Nullam sed dolor vel elit commodo venenatis sed at arcu. Quisque condimentum, sapien eu rutrum egestas, risus augue scelerisque erat, et egestas justo leo nec lacus. Praesent a velit ut orci eleifend lobortis. Duis vitae ornare augue. Vestibulum sit amet arcu nec libero sagittis vulputate commodo non velit. Fusce lacinia pretium magna eget rutrum. Proin pharetra cursus arcu, ac pulvinar justo. Nunc suscipit at massa non euismod. Praesent interdum fringilla porta. Etiam rhoncus lacinia accumsan. Proin iaculis arcu nisl, quis laoreet lorem convallis at. Suspendisse pellentesque luctus tortor in rutrum. Quisque ac mattis mauris, quis blandit nibh.\n",
    "Fusce vulputate tortor nec sem suscipit sodales vel sit amet metus. Donec eget magna scelerisque, fringilla risus ut, maximus sapien. Fusce sit amet purus enim. Donec non dapibus ante. Morbi elit risus, suscipit nec nisi a, vestibulum laoreet augue. Vivamus ac quam eu ligula lobortis gravida quis a felis. Fusce accumsan elit at nunc dictum, a bibendum mauris tristique. Aenean eu velit quis lectus porta eleifend vel ultrices nisl. Proin eget purus at tellus feugiat faucibus a suscipit neque. Suspendisse volutpat nisi pharetra libero vulputate, a sollicitudin justo scelerisque. Aliquam volutpat elementum congue. \n",
    "'''"
   ]
  },
  {
   "cell_type": "code",
   "execution_count": null,
   "id": "82611b44-08dc-4ea0-9169-3a2c01865db9",
   "metadata": {},
   "outputs": [],
   "source": []
  }
 ],
 "metadata": {
  "kernelspec": {
   "display_name": "Python 3",
   "language": "python",
   "name": "python3"
  },
  "language_info": {
   "codemirror_mode": {
    "name": "ipython",
    "version": 3
   },
   "file_extension": ".py",
   "mimetype": "text/x-python",
   "name": "python",
   "nbconvert_exporter": "python",
   "pygments_lexer": "ipython3",
   "version": "3.9.5"
  }
 },
 "nbformat": 4,
 "nbformat_minor": 5
}

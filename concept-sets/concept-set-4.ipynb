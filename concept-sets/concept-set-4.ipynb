{
 "cells": [
  {
   "cell_type": "markdown",
   "id": "15597940-68f8-427b-84d4-c81e99364efb",
   "metadata": {},
   "source": [
    "# Concept Set 4\n",
    "## Topic: Libraries\n",
    "\n",
    "by Joe Ilagan\n",
    "\n",
    "This concept set is meant for people who have no experience with programming at all. If you have experience with programming, you may ignore the concept sets that tackle topics you've mastered."
   ]
  },
  {
   "cell_type": "markdown",
   "id": "2a81275d-1aef-4d5b-bb90-818bf5bc1a7d",
   "metadata": {},
   "source": [
    "### 4.1: What is a library?\n",
    "\n",
    "How do you take the square root of a number in Python?  \n",
    "\n",
    "You could write your own function with a mathematical algorithm to do this:"
   ]
  },
  {
   "cell_type": "code",
   "execution_count": 3,
   "id": "a42c12de-937a-4e68-b09b-e185cdc96046",
   "metadata": {},
   "outputs": [
    {
     "name": "stdout",
     "output_type": "stream",
     "text": [
      "Square root of 64 is 8.0\n"
     ]
    }
   ],
   "source": [
    "# Source: https://www.geeksforgeeks.org/square-root-of-a-perfect-square/\n",
    "# 6/5/2021\n",
    "\n",
    "# Returns the square root of n.\n",
    "# Note that the function\n",
    "def squareRoot(n):\n",
    "    # We are using n itself as\n",
    "    # initial approximation This\n",
    "    # can definitely be improved\n",
    "        x = n\n",
    "        y = 1\n",
    "        # e decides the accuracy level\n",
    "        e = 0.000001\n",
    "        while(x - y > e):\n",
    "            x = (x + y)/2\n",
    "            y = n / x\n",
    "     \n",
    "        return x\n",
    "    \n",
    "# Driver program to test\n",
    "# above function\n",
    "n = 64\n",
    "print(\"Square root of\", n, \"is\",\n",
    "              round(squareRoot(n), 6))\n",
    " \n",
    "# This code is contributed by\n",
    "# Smitha Dinesh Semwal"
   ]
  },
  {
   "cell_type": "markdown",
   "id": "007e71aa-a59c-4b04-9015-900c69b9d5ad",
   "metadata": {},
   "source": [
    "Imagine having to do this any time you want to do something even slightly complicated. This would be awful.  \n",
    "\n",
    "Thankfully, Python provides a suite of pre-written code that you can use to accomplish common tasks. This pre-written code is accessible through Python's _library_ system. Python's libraries allow you to access pre-written and rigorously tested _modules_ that contain code for common use cases.  \n",
    "\n",
    "If we want to take the square root of a number in Python, we can access the `math` library's `.sqrt` function."
   ]
  },
  {
   "cell_type": "code",
   "execution_count": 4,
   "id": "76be0376-7759-4754-8145-c5631c364c0b",
   "metadata": {},
   "outputs": [
    {
     "name": "stdout",
     "output_type": "stream",
     "text": [
      "8.0\n"
     ]
    }
   ],
   "source": [
    "import math\n",
    "\n",
    "number = 64\n",
    "\n",
    "print(math.sqrt(number))"
   ]
  },
  {
   "cell_type": "markdown",
   "id": "5b585e6f-7bfe-4b5d-b030-2894bacd63d1",
   "metadata": {},
   "source": [
    "### 4.2: The standard library\n",
    "\n",
    "Python comes with a _standard library_. This is a set of pre-written code that comes with _all_ Python installations. In other words, you don't have to manually install packages to use these libraries.  \n",
    "\n",
    "#### Common standard libraries  \n",
    "\n",
    "`os`, which is used to interact with your operating system.  \n",
    "`sys`, which is used to \"interact with the interpreter.\"  \n",
    "`math`, which is used for common use cases for floating-point mathematics.  \n",
    "`random`, which is used to generate random numbers.  \n",
    "`datetime`, which is used to work with date and time values, which are a bigger headache than one might expect.  \n",
    "`csv`, which is used to interact with .csv files. This will be relevant later.  \n",
    "`json`, which is used to interact with .json files. This will be relevant later.  \n",
    "\n",
    "#### Common external libraries\n",
    "\n",
    "`numpy`, which is used for scientific computing workloads. Many other libraries use numpy as a dependency.  \n",
    "`pandas`, which is used for data analysis.  \n",
    "`matplotlib`, which is used for visualizing data.  \n",
    "`seaborn`, which is also used for visualizing data. It is built on top of matplotlib, and it is a higher-level (read: more human-friendly) way to visualize data.  \n",
    "`requests`, which is used for talking to other applications through HTTP requests.  \n",
    "`flask`, which is used for building web servers with Python.  \n",
    "`pyautogui`, which is used for interacting with your computer's GUI.  \n",
    "\n",
    "There are thousands more.  \n",
    "\n",
    "#### How do I install external libraries?\n",
    "\n",
    "In Anaconda, external libraries are installed with `pip` from the command prompt or terminal that you can launch from the Anaconda navigator. You may also install packages directly from the Anaconda navigator. Please refer to this link for more details: https://docs.anaconda.com/anaconda/navigator/tutorials/manage-packages/  \n",
    "\n",
    "Without Anaconda, external libraries are installed with `pip` from within a virtual environment or in your global installation. This requires knowing how to use command line/terminal, which I recommend learning.  \n",
    "\n",
    "#### How do I know if a library is installed?\n",
    "\n",
    "You may check if a library is installed by attempting to import it. For example, if you want to check if pandas is installed, try running the following line of code:  \n",
    "\n",
    "`import pandas`  \n",
    "\n",
    "If it does not throw an error, then the package is installed.  \n",
    "\n",
    "#### Where can I find other libraries?\n",
    "\n",
    "Generally, you can find the libraries you need by searching for your use case. The main problem that you are likely to face is being able to articulate your use case to your search engine, but this ability comes with experience.  "
   ]
  },
  {
   "cell_type": "markdown",
   "id": "2cc326d3-1d31-4e08-b6aa-f628efac1304",
   "metadata": {},
   "source": [
    "### Checkpoint\n",
    "\n",
    "Get the statistical mean of this dataset with a library function."
   ]
  },
  {
   "cell_type": "code",
   "execution_count": 9,
   "id": "1cd718bd-d357-4adc-a639-8c7c4e80b932",
   "metadata": {},
   "outputs": [],
   "source": [
    "data_points = [21975, 11429, 3931, 36671, 38634, 26190, 21499, 19177, 34976, 2004]"
   ]
  },
  {
   "cell_type": "code",
   "execution_count": null,
   "id": "31be22fa-e5bd-4d17-9654-16b4854afbc4",
   "metadata": {},
   "outputs": [],
   "source": []
  }
 ],
 "metadata": {
  "kernelspec": {
   "display_name": "Python 3",
   "language": "python",
   "name": "python3"
  },
  "language_info": {
   "codemirror_mode": {
    "name": "ipython",
    "version": 3
   },
   "file_extension": ".py",
   "mimetype": "text/x-python",
   "name": "python",
   "nbconvert_exporter": "python",
   "pygments_lexer": "ipython3",
   "version": "3.9.5"
  }
 },
 "nbformat": 4,
 "nbformat_minor": 5
}
